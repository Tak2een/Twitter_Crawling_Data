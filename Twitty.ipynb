{
 "cells": [
  {
   "cell_type": "code",
   "execution_count": 2,
   "id": "3a294013",
   "metadata": {},
   "outputs": [
    {
     "name": "stdout",
     "output_type": "stream",
     "text": [
      "Collecting tweepy\n",
      "  Downloading tweepy-4.10.0-py3-none-any.whl (94 kB)\n",
      "\u001b[K     |████████████████████████████████| 94 kB 2.7 MB/s eta 0:00:01\n",
      "\u001b[?25hCollecting oauthlib<4,>=3.2.0\n",
      "  Downloading oauthlib-3.2.0-py3-none-any.whl (151 kB)\n",
      "\u001b[K     |████████████████████████████████| 151 kB 3.0 MB/s eta 0:00:01\n",
      "\u001b[?25hCollecting requests-oauthlib<2,>=1.2.0\n",
      "  Downloading requests_oauthlib-1.3.1-py2.py3-none-any.whl (23 kB)\n",
      "Requirement already satisfied: requests<3,>=2.27.0 in ./opt/anaconda3/lib/python3.9/site-packages (from tweepy) (2.27.1)\n",
      "Requirement already satisfied: certifi>=2017.4.17 in ./opt/anaconda3/lib/python3.9/site-packages (from requests<3,>=2.27.0->tweepy) (2021.10.8)\n",
      "Requirement already satisfied: urllib3<1.27,>=1.21.1 in ./opt/anaconda3/lib/python3.9/site-packages (from requests<3,>=2.27.0->tweepy) (1.26.9)\n",
      "Requirement already satisfied: charset-normalizer~=2.0.0 in ./opt/anaconda3/lib/python3.9/site-packages (from requests<3,>=2.27.0->tweepy) (2.0.4)\n",
      "Requirement already satisfied: idna<4,>=2.5 in ./opt/anaconda3/lib/python3.9/site-packages (from requests<3,>=2.27.0->tweepy) (3.3)\n",
      "Installing collected packages: oauthlib, requests-oauthlib, tweepy\n",
      "Successfully installed oauthlib-3.2.0 requests-oauthlib-1.3.1 tweepy-4.10.0\n"
     ]
    }
   ],
   "source": [
    "'''\n",
    "특정 유저 타임라인 긁어오기\n",
    "API.user_timeline(user_id, screen_name, since_id, count, max_id, trim_user, exclude_replies, include_rts)\n",
    "\n",
    "''' "
   ]
  },
  {
   "cell_type": "code",
   "execution_count": 1,
   "id": "41051d44",
   "metadata": {},
   "outputs": [],
   "source": [
    "import tweepy\n",
    "\n",
    "# 트위터 앱의 Keys and Access Tokens 탭 참조(자신의 설정 값을 넣어준다)\n",
    "consumer_key = 'y2ngsdmKFCPxIvwBhfmwa3Ggh'\n",
    "consumer_secret = 'kFvFb3tBjlGJuH1oZm7sPKxKOcNlLotFG5RdtXu6I4GMYIjRZo'\n",
    "access_token = '1536642565562241029-HNV59DFkYwkWcA74jlruINiGc3wuU5'\n",
    "access_token_secret= 'IG23X5wKHy8QxvqREqkSniYHrOSJkglSU4RSE05q8FYZb'\n"
   ]
  },
  {
   "cell_type": "code",
   "execution_count": 2,
   "id": "327b8421",
   "metadata": {},
   "outputs": [],
   "source": [
    "auth = tweepy.OAuthHandler(consumer_key, consumer_secret)"
   ]
  },
  {
   "cell_type": "code",
   "execution_count": 3,
   "id": "9408aeeb",
   "metadata": {},
   "outputs": [],
   "source": [
    "auth.set_access_token(access_token, access_token_secret)\n"
   ]
  },
  {
   "cell_type": "code",
   "execution_count": 4,
   "id": "76993e0a",
   "metadata": {},
   "outputs": [],
   "source": [
    "api = tweepy.API(auth)"
   ]
  },
  {
   "cell_type": "code",
   "execution_count": 5,
   "id": "42c5dacb",
   "metadata": {
    "scrolled": true
   },
   "outputs": [
    {
     "name": "stdout",
     "output_type": "stream",
     "text": [
      "<tweepy.api.API object at 0x7faf59528df0>\n"
     ]
    }
   ],
   "source": [
    "print(api)"
   ]
  },
  {
   "cell_type": "code",
   "execution_count": 6,
   "id": "6e79af82",
   "metadata": {},
   "outputs": [],
   "source": [
    "keyword = \"BTC\";     # 자신이 검색하고 싶은 키워드 입력 \n",
    "search = [] # 크롤링 결과 저장할 변수   \n"
   ]
  },
  {
   "cell_type": "code",
   "execution_count": 43,
   "id": "1f0e8617",
   "metadata": {},
   "outputs": [
    {
     "name": "stdout",
     "output_type": "stream",
     "text": [
      "479\n"
     ]
    }
   ],
   "source": [
    "cnt = 1\n",
    "while(cnt <= 2):   # 10page 대상으로 크롤링\n",
    "    tweets = api.search_tweets(keyword)\n",
    "    for tweet in tweets:\n",
    "        search.append(tweet)\n",
    "    cnt += 1\n",
    "\n",
    "print(len(search)) # 문서 길이 "
   ]
  },
  {
   "cell_type": "code",
   "execution_count": 61,
   "id": "1a9ad7ea",
   "metadata": {},
   "outputs": [
    {
     "name": "stdout",
     "output_type": "stream",
     "text": [
      "http://twitter.com/download/android\n",
      "RT @MetaGame_Land: 3️⃣,0️⃣0️⃣0️⃣$ 💵 #AIRDROP 🛫 IS NOW LIVE\n",
      "\n",
      "This Airdrop event is in celebration of our opening Alpha version. Visit https:…\n",
      "1545307481379061760\n",
      "Sagar15495949\n",
      "--------text-------\n",
      "RT @MetaGame_Land: 3️⃣,0️⃣0️⃣0️⃣$ 💵 #AIRDROP 🛫 IS NOW LIVE\n",
      "\n",
      "This Airdrop event is in celebration of our opening Alpha version. Visit https:…\n"
     ]
    }
   ],
   "source": [
    "i = 100\n",
    "print(search[i].source_url) # 첫번째 text 보기 \n",
    "print(search[i].text)\n",
    "print(search[i].id)\n",
    "print(search[i].user.screen_name)\n",
    "print('--------text-------')\n",
    "print(search[i].text)\n",
    "\n",
    "url = 'http://twitter.com/{}/status/{}'.format(search[i].user.screen_name,search[i].id)"
   ]
  },
  {
   "cell_type": "code",
   "execution_count": 62,
   "id": "0fa97ef7",
   "metadata": {},
   "outputs": [
    {
     "name": "stdout",
     "output_type": "stream",
     "text": [
      "http://twitter.com/Sagar15495949/status/1545307481379061760\n"
     ]
    }
   ],
   "source": [
    "print(url)"
   ]
  },
  {
   "cell_type": "code",
   "execution_count": null,
   "id": "6be585a3",
   "metadata": {},
   "outputs": [],
   "source": []
  }
 ],
 "metadata": {
  "kernelspec": {
   "display_name": "Python 3 (ipykernel)",
   "language": "python",
   "name": "python3"
  },
  "language_info": {
   "codemirror_mode": {
    "name": "ipython",
    "version": 3
   },
   "file_extension": ".py",
   "mimetype": "text/x-python",
   "name": "python",
   "nbconvert_exporter": "python",
   "pygments_lexer": "ipython3",
   "version": "3.9.12"
  }
 },
 "nbformat": 4,
 "nbformat_minor": 5
}
